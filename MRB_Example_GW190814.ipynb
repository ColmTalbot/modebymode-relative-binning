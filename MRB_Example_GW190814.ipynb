{
 "cells": [
  {
   "cell_type": "code",
   "execution_count": 1,
   "metadata": {},
   "outputs": [],
   "source": [
    "# imports\n",
    "import lal\n",
    "import lalsimulation as lalsim\n",
    "import numpy as np\n",
    "import xphm_mrb as mrb\n",
    "import matplotlib.pyplot as plt\n",
    "import pickle"
   ]
  },
  {
   "cell_type": "code",
   "execution_count": 2,
   "metadata": {},
   "outputs": [],
   "source": [
    "# event specific info\n",
    "T_long = 128\n",
    "T = 16\n",
    "Fs = 1024\n",
    "tgps = 1249852257.0\n",
    "f_min = 20.\n",
    "f_max = 512.\n",
    "f_ref = 100.\n",
    "detstrings = ['H1', 'L1', 'V1']\n",
    "\n",
    "# # ========================================================================================\n",
    "# # If data_GW190814.pkl exists in the path, then you may leave this section commented out \n",
    "# # in order to save time. Otherwise, run this to generate the data:\n",
    "# data_GW190814 = mrb.data(T, Fs, T_long, tgps, detstrings = detstrings) \n",
    "# afile = open('data_GW190814.pkl', 'wb')\n",
    "# pickle.dump(data_GW190814, afile)\n",
    "# afile.close()\n",
    "# # ========================================================================================\n",
    "\n",
    "#reload object from file\n",
    "file2 = open('data_GW190814.pkl', 'rb')\n",
    "data = pickle.load(file2)\n",
    "file2.close()"
   ]
  },
  {
   "cell_type": "code",
   "execution_count": 3,
   "metadata": {},
   "outputs": [],
   "source": [
    "# some parameter dictionaries for use\n",
    "\n",
    "example_pdict = {'mass_1': 27.72983831269138, \n",
    " 'mass_2': 2.50837808512176035,\n",
    " 'chi_1x': -0.14718763312200078, \n",
    " 'chi_1y': -0.16835002087493475, \n",
    " 'chi_1z': 0.1272682221931026, \n",
    " 'chi_2x': 0.20356967254066038, \n",
    " 'chi_2y': -0.4010835740047465, \n",
    " 'chi_2z': -0.18169190464489784, \n",
    " 'distance': 1.0163824217045286e+25, \n",
    " 'thetaJN': 2.9019314196865764, \n",
    " 'kappa': -0.41903862210880943, \n",
    " 'ra': 2.6832891377862698, \n",
    " 'dec': 0.8551747550420822, \n",
    " 'psi': 1.4249910399143244, \n",
    " 'tc': 0.011820773134029385, \n",
    " 'tgps': tgps, \n",
    " 'tcoarse': T/2, \n",
    " 'f_min': f_min, \n",
    " 'f_max': f_max, \n",
    " 'f_ref': f_ref,\n",
    " 'lal_dict': lal.CreateDict()}\n",
    "\n",
    "fiducial_pdict = {'mass_1': 24.435483426456848, \n",
    " 'mass_2': 2.723374225187505,\n",
    " 'chi_1x': 0.02359450525836797, \n",
    " 'chi_1y': 0.03868527217784936, \n",
    " 'chi_1z': 0.0024360175827902618, \n",
    " 'chi_2x': -0.30533509006002735, \n",
    " 'chi_2y': -0.5743866829395613, \n",
    " 'chi_2z': -0.06772756565943047, \n",
    " 'distance': 8.741147565419736e+24, \n",
    " 'thetaJN': 2.729726304256051, \n",
    " 'kappa': 2.729726304256051, \n",
    " 'ra': 0.4116550230717184, \n",
    " 'dec': -0.5739309671444994, \n",
    " 'psi': 2.9623503046019186, \n",
    " 'tc': 0.011534364898266381, \n",
    " 'tgps': tgps, \n",
    " 'tcoarse': T/2, \n",
    " 'f_min': f_min, \n",
    " 'f_max': f_max, \n",
    " 'f_ref': f_ref,\n",
    " 'lal_dict': lal.CreateDict()}\n",
    "\n",
    "test_pdict = {'mass_1': 22.48, \n",
    " 'mass_2': 2.869,\n",
    " 'chi_1x': 0.02342113796878262, \n",
    " 'chi_1y': -0.14571362415791864, \n",
    " 'chi_1z': -0.1048829540948196, \n",
    " 'chi_2x': -0.4764822484116526, \n",
    " 'chi_2y': 0.052711018384293686, \n",
    " 'chi_2z': -0.07540798150587324, \n",
    " 'distance': 9.065577550589078e+24, \n",
    " 'thetaJN': 0.377519020780241, \n",
    " 'kappa': -0.23401127867213417, \n",
    " 'ra': 0.21938490119335974, \n",
    " 'dec': -0.45131110485446746, \n",
    " 'psi': 1.533445663292355, \n",
    " 'tc': 0.01144241616184194, \n",
    " 'tgps': tgps, \n",
    " 'tcoarse': T/2, \n",
    " 'f_min': f_min, \n",
    " 'f_max': f_max, \n",
    " 'f_ref': f_ref,\n",
    " 'lal_dict': lal.CreateDict()}"
   ]
  },
  {
   "cell_type": "code",
   "execution_count": 4,
   "metadata": {},
   "outputs": [],
   "source": [
    "# build the model objects for each set of parameters\n",
    "example_model = mrb.model(T, Fs, example_pdict, detstrings=detstrings)\n",
    "fiducial_model = mrb.model(T, Fs, fiducial_pdict, detstrings=detstrings)\n",
    "test_model = mrb.model(T, Fs, test_pdict, detstrings=detstrings)"
   ]
  },
  {
   "cell_type": "code",
   "execution_count": 5,
   "metadata": {},
   "outputs": [
    {
     "name": "stdout",
     "output_type": "stream",
     "text": [
      "exact log likelihood for example parameters:  235.95506800949516\n",
      "exact log likelihood for fiducial parameters:  256.4871783569316\n",
      "exact log likelihood for test parameters:  250.1763218913472\n"
     ]
    }
   ],
   "source": [
    "# compute and print exact likelihoods for each set of parameters\n",
    "example_lnL_exact = mrb.compute_exact_log_likelihood(data, example_model)\n",
    "print('exact log likelihood for example parameters: ', example_lnL_exact)\n",
    "fiducial_lnL_exact = mrb.compute_exact_log_likelihood(data, fiducial_model)\n",
    "print('exact log likelihood for fiducial parameters: ', fiducial_lnL_exact)\n",
    "test_lnL_exact = mrb.compute_exact_log_likelihood(data, test_model)\n",
    "print('exact log likelihood for test parameters: ', test_lnL_exact)"
   ]
  },
  {
   "cell_type": "code",
   "execution_count": 6,
   "metadata": {},
   "outputs": [
    {
     "name": "stderr",
     "output_type": "stream",
     "text": [
      "/Users/nathanielleslie/Research/GW/modebymode-relative-binning/xphm_mrb.py:598: RuntimeWarning: invalid value encountered in true_divide\n",
      "  r = (hhat/hhat0)[:,:,fbin_ind]\n",
      "/Users/nathanielleslie/Research/GW/modebymode-relative-binning/xphm_mrb.py:646: RuntimeWarning: invalid value encountered in true_divide\n",
      "  r = (h/h0)[:,:,fbin_ind]\n"
     ]
    },
    {
     "name": "stdout",
     "output_type": "stream",
     "text": [
      "CPU times: user 54.5 s, sys: 302 ms, total: 54.8 s\n",
      "Wall time: 54.9 s\n"
     ]
    }
   ],
   "source": [
    "%%time\n",
    "# precompute bins and summary data for original (modeless) relative binning and the two mode-by-mode schemes\n",
    "# takes about 1 min\n",
    "modeless_binning_info = mrb.setup_binning(data, fiducial_model, modebymode = False)\n",
    "binning_info_mrb_1 = mrb.setup_binning(data, fiducial_model, test_model=test_model, scheme = 1)\n",
    "binning_info_mrb_2 = mrb.setup_binning(data, fiducial_model, test_model=test_model, scheme = 2)"
   ]
  },
  {
   "cell_type": "code",
   "execution_count": 7,
   "metadata": {},
   "outputs": [
    {
     "name": "stdout",
     "output_type": "stream",
     "text": [
      "log likelihood for example parameters using original relative binning:  236.83986214288532\n",
      "log likelihood for example parameters using mode-by-mode relative binning, scheme 1:  235.82034871216823\n",
      "log likelihood for example parameters using mode-by-mode relative binning, scheme 2:  235.8243146205615\n",
      "exact log likelihood for example parameters:  235.95506800949516\n"
     ]
    }
   ],
   "source": [
    "# compute log likelihoods for the example parameters using all of the relative binning schemes\n",
    "lnL_modeless = mrb.compute_modeless_relative_binning_log_likelihood(modeless_binning_info, example_pdict)\n",
    "print('log likelihood for example parameters using original relative binning: ', lnL_modeless)\n",
    "lnL_mrb_1 = mrb.compute_relative_binning_log_likelihood(binning_info_mrb_1, example_pdict, scheme = 1)\n",
    "print('log likelihood for example parameters using mode-by-mode relative binning, scheme 1: ', lnL_mrb_1)\n",
    "lnL_mrb_2 = mrb.compute_relative_binning_log_likelihood(binning_info_mrb_2, example_pdict, scheme = 2)\n",
    "print('log likelihood for example parameters using mode-by-mode relative binning, scheme 2: ', lnL_mrb_2)\n",
    "print('exact log likelihood for example parameters: ', example_lnL_exact)"
   ]
  },
  {
   "cell_type": "code",
   "execution_count": null,
   "metadata": {},
   "outputs": [],
   "source": []
  }
 ],
 "metadata": {
  "kernelspec": {
   "display_name": "BayesFast",
   "language": "python",
   "name": "bayesfast"
  },
  "language_info": {
   "codemirror_mode": {
    "name": "ipython",
    "version": 3
   },
   "file_extension": ".py",
   "mimetype": "text/x-python",
   "name": "python",
   "nbconvert_exporter": "python",
   "pygments_lexer": "ipython3",
   "version": "3.7.9"
  }
 },
 "nbformat": 4,
 "nbformat_minor": 4
}
